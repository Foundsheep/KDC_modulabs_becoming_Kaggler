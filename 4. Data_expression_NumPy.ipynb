{
 "cells": [
  {
   "cell_type": "markdown",
   "metadata": {},
   "source": [
    "# 평균구하기 without NumPy"
   ]
  },
  {
   "cell_type": "code",
   "execution_count": 6,
   "metadata": {},
   "outputs": [
    {
     "name": "stdout",
     "output_type": "stream",
     "text": [
      "\n"
     ]
    },
    {
     "ename": "ZeroDivisionError",
     "evalue": "division by zero",
     "output_type": "error",
     "traceback": [
      "\u001b[0;31m---------------------------------------------------------------------------\u001b[0m",
      "\u001b[0;31mZeroDivisionError\u001b[0m                         Traceback (most recent call last)",
      "\u001b[0;32m<ipython-input-6-4206f4272614>\u001b[0m in \u001b[0;36m<module>\u001b[0;34m\u001b[0m\n\u001b[1;32m     16\u001b[0m     \u001b[0mcount\u001b[0m \u001b[0;34m+=\u001b[0m \u001b[0;36m1\u001b[0m\u001b[0;34m\u001b[0m\u001b[0;34m\u001b[0m\u001b[0m\n\u001b[1;32m     17\u001b[0m \u001b[0;34m\u001b[0m\u001b[0m\n\u001b[0;32m---> 18\u001b[0;31m \u001b[0mprint\u001b[0m\u001b[0;34m(\u001b[0m\u001b[0;34m\"the average is :\"\u001b[0m\u001b[0;34m,\u001b[0m \u001b[0mtotal\u001b[0m\u001b[0;34m/\u001b[0m\u001b[0mcount\u001b[0m\u001b[0;34m)\u001b[0m\u001b[0;34m\u001b[0m\u001b[0;34m\u001b[0m\u001b[0m\n\u001b[0m",
      "\u001b[0;31mZeroDivisionError\u001b[0m: division by zero"
     ]
    }
   ],
   "source": [
    "## DJ's version\n",
    "\n",
    "total = 0\n",
    "count = 0\n",
    "\n",
    "while True:\n",
    "    a = input()\n",
    "    if a == \"\":\n",
    "        break\n",
    "    try:\n",
    "        a = float(a)\n",
    "    except:\n",
    "        print(\"Not a number!\")\n",
    "        a = float(input())\n",
    "    total = total + a\n",
    "    count += 1\n",
    "\n",
    "print(\"the average is :\", total/count)\n"
   ]
  },
  {
   "cell_type": "code",
   "execution_count": 5,
   "metadata": {},
   "outputs": [
    {
     "name": "stdout",
     "output_type": "stream",
     "text": [
      "Enter a number :  (<Enter Key> to quit)\n"
     ]
    },
    {
     "ename": "ZeroDivisionError",
     "evalue": "division by zero",
     "output_type": "error",
     "traceback": [
      "\u001b[0;31m---------------------------------------------------------------------------\u001b[0m",
      "\u001b[0;31mZeroDivisionError\u001b[0m                         Traceback (most recent call last)",
      "\u001b[0;32m<ipython-input-5-944448f662d0>\u001b[0m in \u001b[0;36m<module>\u001b[0;34m\u001b[0m\n\u001b[1;32m     10\u001b[0m         \u001b[0mprint\u001b[0m\u001b[0;34m(\u001b[0m\u001b[0;34m'NOT a number! Ignored..'\u001b[0m\u001b[0;34m)\u001b[0m\u001b[0;34m\u001b[0m\u001b[0;34m\u001b[0m\u001b[0m\n\u001b[1;32m     11\u001b[0m     \u001b[0mnumbers\u001b[0m \u001b[0;34m=\u001b[0m \u001b[0minput\u001b[0m\u001b[0;34m(\u001b[0m\u001b[0;34m\"Enter a number :  (<Enter Key> to quit)\"\u001b[0m\u001b[0;34m)\u001b[0m\u001b[0;34m\u001b[0m\u001b[0;34m\u001b[0m\u001b[0m\n\u001b[0;32m---> 12\u001b[0;31m \u001b[0mavg\u001b[0m \u001b[0;34m=\u001b[0m \u001b[0mtotal\u001b[0m \u001b[0;34m/\u001b[0m \u001b[0mcount\u001b[0m\u001b[0;34m\u001b[0m\u001b[0;34m\u001b[0m\u001b[0m\n\u001b[0m\u001b[1;32m     13\u001b[0m \u001b[0mprint\u001b[0m\u001b[0;34m(\u001b[0m\u001b[0;34m\"\\n average is\"\u001b[0m\u001b[0;34m,\u001b[0m \u001b[0mavg\u001b[0m\u001b[0;34m)\u001b[0m\u001b[0;34m\u001b[0m\u001b[0;34m\u001b[0m\u001b[0m\n",
      "\u001b[0;31mZeroDivisionError\u001b[0m: division by zero"
     ]
    }
   ],
   "source": [
    "total = 0\n",
    "count = 0\n",
    "numbers = input(\"Enter a number :  (<Enter Key> to quit)\")\n",
    "while numbers != \"\":\n",
    "    try:\n",
    "        x = float(numbers)\n",
    "        count += 1\n",
    "        total = total + x\n",
    "    except ValueError:\n",
    "        print('NOT a number! Ignored..')\n",
    "    numbers = input(\"Enter a number :  (<Enter Key> to quit)\")\n",
    "avg = total / count\n",
    "print(\"\\n average is\", avg)"
   ]
  },
  {
   "cell_type": "markdown",
   "metadata": {},
   "source": [
    "### 4-3. 배열은 가까이에~ 기본 통계 데이터를 계산해 볼까? (2) 배열을 활용한 평균, 표준편차, 중앙값 계산"
   ]
  },
  {
   "cell_type": "code",
   "execution_count": null,
   "metadata": {},
   "outputs": [],
   "source": [
    "# 2개 이상의 숫자를 입력받아 리스트에 저장하는 함수\n",
    "def numbers():\n",
    "    X=[]    # X에 빈 리스트를 할당합니다.\n",
    "    while True:\n",
    "        number = input(\"Enter a number (<Enter key> to quit)\") \n",
    "        while number !=\"\":\n",
    "            try:\n",
    "                x = float(number)\n",
    "                X.append(x)    # float형으로 변환한 숫자 입력을 리스트에 추가합니다.\n",
    "            except ValueError:\n",
    "                print('>>> NOT a number! Ignored..')\n",
    "            number = input(\"Enter a number (<Enter key> to quit)\")\n",
    "        if len(X) > 1:  # 저장된 숫자가 2개 이상일 때만 리턴합니다.\n",
    "            return X\n",
    "\n",
    "X=numbers()\n",
    "\n",
    "print('X :', X)"
   ]
  },
  {
   "cell_type": "code",
   "execution_count": 22,
   "metadata": {},
   "outputs": [],
   "source": [
    "#def numbers():\n",
    "\n",
    "\n",
    "# get numbers by input, loop\n",
    "# within the loop, append the number to the list\n",
    "# if it's not a number, print a warning and do not break\n",
    "# continue until a user press an enter key\n",
    "\n",
    "\n",
    "def numbers():\n",
    "    X = []\n",
    "    x = input(\"Enter a number (<Enter key> to quit)\")\n",
    "    while x != \"\":\n",
    "        try:\n",
    "            x = float(x)\n",
    "            X.append(x)\n",
    "        except:\n",
    "            print(\"Not a number\")\n",
    "        if x == \"\":\n",
    "            break\n",
    "        x = input(\"Enter a number (<Enter key> to quit)\")\n",
    "    if len(X) > 1:\n",
    "        return X\n",
    "    else:\n",
    "        return \"No element\""
   ]
  },
  {
   "cell_type": "code",
   "execution_count": 23,
   "metadata": {},
   "outputs": [
    {
     "name": "stdout",
     "output_type": "stream",
     "text": [
      "Enter a number (<Enter key> to quit)\n"
     ]
    },
    {
     "data": {
      "text/plain": [
       "'No element'"
      ]
     },
     "execution_count": 23,
     "metadata": {},
     "output_type": "execute_result"
    }
   ],
   "source": [
    "numbers() "
   ]
  },
  {
   "cell_type": "code",
   "execution_count": 17,
   "metadata": {},
   "outputs": [
    {
     "name": "stdout",
     "output_type": "stream",
     "text": [
      "Enter a number (<Enter key> to quit)1\n",
      "Enter a number (<Enter key> to quit)2\n",
      "Enter a number (<Enter key> to quit)3\n",
      "Enter a number (<Enter key> to quit)4\n",
      "Enter a number (<Enter key> to quit)5\n",
      "Enter a number (<Enter key> to quit)\n"
     ]
    }
   ],
   "source": [
    "X = numbers()"
   ]
  },
  {
   "cell_type": "code",
   "execution_count": 19,
   "metadata": {},
   "outputs": [
    {
     "data": {
      "text/plain": [
       "[1.0, 2.0, 3.0, 4.0, 5.0]"
      ]
     },
     "execution_count": 19,
     "metadata": {},
     "output_type": "execute_result"
    }
   ],
   "source": [
    "X"
   ]
  },
  {
   "cell_type": "code",
   "execution_count": 21,
   "metadata": {},
   "outputs": [
    {
     "name": "stdout",
     "output_type": "stream",
     "text": [
      "Enter a number (<Enter key> to quit)\n"
     ]
    },
    {
     "data": {
      "text/plain": [
       "[]"
      ]
     },
     "execution_count": 21,
     "metadata": {},
     "output_type": "execute_result"
    }
   ],
   "source": [
    "numbers()"
   ]
  },
  {
   "cell_type": "code",
   "execution_count": 24,
   "metadata": {},
   "outputs": [
    {
     "name": "stdout",
     "output_type": "stream",
     "text": [
      "<class 'list'>\n",
      "[1, 2, 3, '4']\n",
      "[1, 5, 2, 3, '4']\n",
      "<class 'array.array'>\n",
      "array('i', [1, 2, 3])\n",
      "array('i', [1, 5, 2, 3])\n"
     ]
    }
   ],
   "source": [
    "import array as arr\n",
    "\n",
    "mylist = [1, 2, 3]   # 이것은 파이썬 built-in list입니다. \n",
    "print(type(mylist))\n",
    "\n",
    "mylist.append('4')  # mylist의 끝에 character '4'를 추가합니다. \n",
    "print(mylist)\n",
    "\n",
    "mylist.insert(1, 5)  # mylist의 두번째 자리에 5를 끼워넣습니다.\n",
    "print(mylist)\n",
    "\n",
    "myarray = arr.array('i', [1, 2, 3])   # 이것은 array입니다. import array를 해야 쓸 수 있습니다.\n",
    "print(type(myarray))\n",
    "\n",
    "# 아래 라인의 주석을 풀고 실행하면 에러가 납니다.\n",
    "#myarray.append('4')    # myarray의 끝에 character '4'를 추가합니다. \n",
    "print(myarray)\n",
    "\n",
    "myarray.insert(1, 5)    # myarray의 두번째 자리에 5를 끼워넣습니다.\n",
    "print(myarray)"
   ]
  },
  {
   "cell_type": "code",
   "execution_count": null,
   "metadata": {},
   "outputs": [],
   "source": []
  },
  {
   "cell_type": "code",
   "execution_count": 25,
   "metadata": {},
   "outputs": [
    {
     "name": "stdout",
     "output_type": "stream",
     "text": [
      "sum of X:  15.0\n"
     ]
    }
   ],
   "source": [
    "total = 0.0\n",
    "for i in range(len(X)):\n",
    "    total = total + X[i]\n",
    "mean = total / len(X)\n",
    "\n",
    "print('sum of X: ', total)"
   ]
  },
  {
   "cell_type": "code",
   "execution_count": 39,
   "metadata": {},
   "outputs": [],
   "source": [
    "# 중앙값 return 하는 코드\n",
    "# list 개수가 홀수일 경우 : n/2의 반올림 번째꺼가 중앙값\n",
    "# list 개수가 짝수일 경우 : (n/2 + n/2+1)/2가 중앙값\n",
    "\n",
    "def median(nums):\n",
    "    nums.sort()\n",
    "    if len(nums) % 2 == 0: # 짝수일 경우\n",
    "        count = len(nums)\n",
    "        inde1 = int(count/2)\n",
    "        inde2 = inde1+1\n",
    "        return (nums[inde1] + nums[inde2])/2\n",
    "    elif len(nums) % 2 == 1: # 홀수일 경우\n",
    "        count = len(nums)\n",
    "        inde = int(count/2) + 1\n",
    "        return nums[inde-1]\n",
    "    else:\n",
    "        return \"No element\""
   ]
  },
  {
   "cell_type": "code",
   "execution_count": 40,
   "metadata": {},
   "outputs": [],
   "source": [
    "a = [1,2,6,7,3,5,7,8,9,64,4,53,5]"
   ]
  },
  {
   "cell_type": "code",
   "execution_count": 41,
   "metadata": {},
   "outputs": [
    {
     "data": {
      "text/plain": [
       "174"
      ]
     },
     "execution_count": 41,
     "metadata": {},
     "output_type": "execute_result"
    }
   ],
   "source": [
    "sum(a)"
   ]
  },
  {
   "cell_type": "code",
   "execution_count": 42,
   "metadata": {},
   "outputs": [],
   "source": [
    "a.sort()"
   ]
  },
  {
   "cell_type": "code",
   "execution_count": 43,
   "metadata": {},
   "outputs": [
    {
     "data": {
      "text/plain": [
       "[1, 2, 3, 4, 5, 5, 6, 7, 7, 8, 9, 53, 64]"
      ]
     },
     "execution_count": 43,
     "metadata": {},
     "output_type": "execute_result"
    }
   ],
   "source": [
    "a"
   ]
  },
  {
   "cell_type": "code",
   "execution_count": 46,
   "metadata": {},
   "outputs": [
    {
     "data": {
      "text/plain": [
       "13"
      ]
     },
     "execution_count": 46,
     "metadata": {},
     "output_type": "execute_result"
    }
   ],
   "source": [
    "len(a)"
   ]
  },
  {
   "cell_type": "code",
   "execution_count": 45,
   "metadata": {},
   "outputs": [
    {
     "data": {
      "text/plain": [
       "6"
      ]
     },
     "execution_count": 45,
     "metadata": {},
     "output_type": "execute_result"
    }
   ],
   "source": [
    "median(a)"
   ]
  },
  {
   "cell_type": "code",
   "execution_count": 47,
   "metadata": {},
   "outputs": [
    {
     "data": {
      "text/plain": [
       "87"
      ]
     },
     "execution_count": 47,
     "metadata": {},
     "output_type": "execute_result"
    }
   ],
   "source": [
    "sum(a) // 2"
   ]
  },
  {
   "cell_type": "code",
   "execution_count": 48,
   "metadata": {},
   "outputs": [],
   "source": [
    "# Aiffel version"
   ]
  },
  {
   "cell_type": "code",
   "execution_count": 49,
   "metadata": {},
   "outputs": [
    {
     "name": "stdout",
     "output_type": "stream",
     "text": [
      "X : [1.0, 2.0, 3.0, 4.0, 5.0]\n"
     ]
    },
    {
     "data": {
      "text/plain": [
       "3.0"
      ]
     },
     "execution_count": 49,
     "metadata": {},
     "output_type": "execute_result"
    }
   ],
   "source": [
    "def median(nums):  \t\t# nums : 리스트를 지정하는 매개변수\n",
    "    nums.sort()\t\t\t\t\t# sort()로 리스트를 순서대로 정렬\n",
    "    size = len(nums)\n",
    "    p = size // 2\n",
    "    if size % 2 == 0:\t\t   # 리스트의 개수가 짝수일때 \n",
    "        pr = p                         # 4번째 값\n",
    "        pl = p-1                      # 3번째 값\n",
    "        mid= float((nums[pl]+nums[pr])/2)    \n",
    "    else:\t\t\t\t\t\t\t\t# 리스트의 개수가 홀수일때\n",
    "        mid = nums[p]\n",
    "    return mid\n",
    "\n",
    "print('X :', X)\n",
    "median(X)\t\t\t\t\t\t# 매개변수의 값으로 X를 사용함"
   ]
  },
  {
   "cell_type": "code",
   "execution_count": 50,
   "metadata": {},
   "outputs": [
    {
     "data": {
      "text/plain": [
       "6"
      ]
     },
     "execution_count": 50,
     "metadata": {},
     "output_type": "execute_result"
    }
   ],
   "source": [
    "median(a)"
   ]
  },
  {
   "cell_type": "markdown",
   "metadata": {},
   "source": [
    "### 표준편차 구하는 코드"
   ]
  },
  {
   "cell_type": "code",
   "execution_count": 51,
   "metadata": {},
   "outputs": [
    {
     "data": {
      "text/plain": [
       "3.0"
      ]
     },
     "execution_count": 51,
     "metadata": {},
     "output_type": "execute_result"
    }
   ],
   "source": [
    "def means(nums):\n",
    "    total = 0.0\n",
    "    for i in range(len(nums)):\n",
    "        total = total + nums[i]\n",
    "    return total / len(nums)\n",
    "\n",
    "means(X)"
   ]
  },
  {
   "cell_type": "code",
   "execution_count": 57,
   "metadata": {},
   "outputs": [
    {
     "ename": "SyntaxError",
     "evalue": "invalid syntax (<ipython-input-57-bb7f1ecc0dd8>, line 6)",
     "output_type": "error",
     "traceback": [
      "\u001b[0;36m  File \u001b[0;32m\"<ipython-input-57-bb7f1ecc0dd8>\"\u001b[0;36m, line \u001b[0;32m6\u001b[0m\n\u001b[0;31m    sum(new_li)/(len(new_li)-1) ** 0.5\u001b[0m\n\u001b[0m      ^\u001b[0m\n\u001b[0;31mSyntaxError\u001b[0m\u001b[0;31m:\u001b[0m invalid syntax\n"
     ]
    }
   ],
   "source": [
    "def std(li):\n",
    "    new_li = []\n",
    "    for i in li:\n",
    "        new_li.append(((i - means(li)) **2)\n",
    "\n",
    "    sum(new_li)/(len(new_li)-1) ** 0.5"
   ]
  },
  {
   "cell_type": "markdown",
   "metadata": {},
   "source": [
    "## 6) 전체 코드 : main()함수\n",
    "위에 구현한 코드를 순서대로 사용해 보겠습니다.\n",
    "\n",
    "우리가 구현하고자 하는 값은 사용자가 입력한 숫자들에 대한 평균값, 중앙값, 표준편차입니다.\n",
    "우선 사용자가 입력한 숫자를 배열(리스트)로 만듭니다.\n",
    "각 숫자의 평균값과 중앙값을 구합니다.\n",
    "각 숫자의 표준편차를 구합니다.\n",
    "각 함수들은 다 구현했죠? main함수로 구현해 보면 다음과 같습니다."
   ]
  },
  {
   "cell_type": "code",
   "execution_count": 59,
   "metadata": {},
   "outputs": [
    {
     "name": "stdout",
     "output_type": "stream",
     "text": [
      "Enter a number (<Enter key> to quit)1\n",
      "Enter a number (<Enter key> to quit)2\n",
      "Enter a number (<Enter key> to quit)3\n",
      "Enter a number (<Enter key> to quit)4\n",
      "Enter a number (<Enter key> to quit)5\n",
      "Enter a number (<Enter key> to quit)6\n",
      "Enter a number (<Enter key> to quit)7\n",
      "Enter a number (<Enter key> to quit)8\n",
      "Enter a number (<Enter key> to quit)9\n",
      "Enter a number (<Enter key> to quit)10\n",
      "Enter a number (<Enter key> to quit)100\n",
      "Enter a number (<Enter key> to quit)200\n",
      "Enter a number (<Enter key> to quit)300\n",
      "Enter a number (<Enter key> to quit)400\n",
      "Enter a number (<Enter key> to quit)500\n",
      "Enter a number (<Enter key> to quit)600\n",
      "Enter a number (<Enter key> to quit)700\n",
      "Enter a number (<Enter key> to quit)800\n",
      "Enter a number (<Enter key> to quit)900\n",
      "Enter a number (<Enter key> to quit)1010\n",
      "Enter a number (<Enter key> to quit)2020\n",
      "Enter a number (<Enter key> to quit)3030\n",
      "Enter a number (<Enter key> to quit)4040\n",
      "Enter a number (<Enter key> to quit)5050\n",
      "Enter a number (<Enter key> to quit)6060\n",
      "Enter a number (<Enter key> to quit)7070\n",
      "Enter a number (<Enter key> to quit)8080\n",
      "Enter a number (<Enter key> to quit)9090\n",
      "Enter a number (<Enter key> to quit)\n",
      "당신이 입력한 숫자[1.0, 2.0, 3.0, 4.0, 5.0, 6.0, 7.0, 8.0, 9.0, 10.0, 100.0, 200.0, 300.0, 400.0, 500.0, 600.0, 700.0, 800.0, 900.0, 1010.0, 2020.0, 3030.0, 4040.0, 5050.0, 6060.0, 7070.0, 8080.0, 9090.0]의 \n",
      "중앙값은450.0, 평균은1785.892857142857, 표준편차는2750.591267605671입니다.\n"
     ]
    }
   ],
   "source": [
    "def numbers():\n",
    "    X=[]\n",
    "    while True:\n",
    "        number = input(\"Enter a number (<Enter key> to quit)\") \n",
    "        while number !=\"\":\n",
    "            try:\n",
    "                x = float(number)\n",
    "                X.append(x)\n",
    "            except ValueError:\n",
    "                print('>>> NOT a number! Ignored..')\n",
    "            number = input(\"Enter a number (<Enter key> to quit)\")\n",
    "        if len(X) > 1:\n",
    "            return X\n",
    "\n",
    "def median(nums): \n",
    "    nums.sort()\n",
    "    size = len(nums)\n",
    "    p = size // 2\n",
    "    if size % 2 == 0:\n",
    "        pr = p\n",
    "        pl = p-1\n",
    "        mid = float((nums[pl]+nums[pr])/2)\n",
    "    else:\n",
    "        mid = nums[p]\n",
    "    return mid\n",
    "\n",
    "def means(nums):\n",
    "    total = 0.0\n",
    "    for i in range(len(nums)):\n",
    "        total = total + nums[i]\n",
    "    return total / len(nums)\n",
    "\n",
    "def std_dev(nums, avg):\n",
    "   texp = 0.0\n",
    "   for i in range(len(nums)):\n",
    "       texp = texp + (nums[i] - avg) ** 2\n",
    "   return (texp/(len(nums)-1)) ** 0.5\n",
    "\n",
    "def main():\n",
    "    X = numbers()\n",
    "    med = median(X)\n",
    "    avg = means(X)\n",
    "    std = std_dev(X, avg)\n",
    "    print(\"당신이 입력한 숫자{}의 \".format(X))\n",
    "    print(\"중앙값은{}, 평균은{}, 표준편차는{}입니다.\".format(med, avg, std))\n",
    "\n",
    "if __name__ == '__main__':\n",
    "    main()"
   ]
  },
  {
   "cell_type": "code",
   "execution_count": 60,
   "metadata": {},
   "outputs": [
    {
     "name": "stdout",
     "output_type": "stream",
     "text": [
      "numpy                     1.17.2           py37h99e6662_0  \n",
      "numpy-base                1.17.2           py37h6575580_0  \n",
      "numpydoc                  0.9.1                      py_0  \n",
      "\n",
      "Note: you may need to restart the kernel to use updated packages.\n"
     ]
    }
   ],
   "source": [
    "conda list | grep numpy"
   ]
  },
  {
   "cell_type": "markdown",
   "metadata": {},
   "source": [
    "##### 1) ndarray만들기"
   ]
  },
  {
   "cell_type": "code",
   "execution_count": null,
   "metadata": {},
   "outputs": [],
   "source": []
  },
  {
   "cell_type": "code",
   "execution_count": 61,
   "metadata": {},
   "outputs": [
    {
     "name": "stdout",
     "output_type": "stream",
     "text": [
      "[0 1 2 3 4]\n",
      "<class 'numpy.ndarray'>\n",
      "--------------------------\n",
      "[0 1 2 3 4]\n",
      "<class 'numpy.ndarray'>\n",
      "--------------------------\n",
      "['0' '1' '2' '3' '4']\n",
      "<class 'numpy.ndarray'>\n",
      "--------------------------\n",
      "[0 1 2 3 4]\n",
      "<class 'numpy.ndarray'>\n"
     ]
    }
   ],
   "source": [
    "import numpy as np\n",
    "\n",
    "# 아래 A와 B는 결과적으로 같은 ndarray 객체를 생성합니다. \n",
    "A = np.arange(5)\n",
    "B = np.array([0,1,2,3,4])  # 파이썬 리스트를 numpy ndarray로 변환\n",
    "\n",
    "# 하지만 C는 좀 다를 것입니다. \n",
    "C = np.array([0,1,2,3,'4'])\n",
    "\n",
    "# D도 A, B와 같은 결과를 내겠지만, B의 방법을 권합니다. \n",
    "D = np.ndarray((5,), np.int64, np.array([0,1,2,3,4]))\n",
    "\n",
    "print(A)\n",
    "print(type(A))\n",
    "print(\"--------------------------\")\n",
    "print(B)\n",
    "print(type(B))\n",
    "print(\"--------------------------\")\n",
    "print(C)\n",
    "print(type(C))\n",
    "print(\"--------------------------\")\n",
    "print(D)\n",
    "print(type(D))"
   ]
  },
  {
   "cell_type": "code",
   "execution_count": 62,
   "metadata": {},
   "outputs": [
    {
     "name": "stdout",
     "output_type": "stream",
     "text": [
      "행렬의 모양: (2, 5)\n",
      "행렬의 축 개수: 2\n",
      "행렬 내 원소의 개수: 10\n"
     ]
    }
   ],
   "source": [
    "A = np.arange(10).reshape(2, 5)   # 길이 10의 1차원 행렬을 2X5 2차원 행렬로 바꿔봅니다.\n",
    "\n",
    "print(\"행렬의 모양:\", A.shape)\n",
    "print(\"행렬의 축 개수:\", A.ndim)\n",
    "print(\"행렬 내 원소의 개수:\", A.size)"
   ]
  },
  {
   "cell_type": "code",
   "execution_count": 63,
   "metadata": {},
   "outputs": [
    {
     "data": {
      "text/plain": [
       "array([[0, 1, 2, 3, 4],\n",
       "       [5, 6, 7, 8, 9]])"
      ]
     },
     "execution_count": 63,
     "metadata": {},
     "output_type": "execute_result"
    }
   ],
   "source": [
    "A"
   ]
  },
  {
   "cell_type": "code",
   "execution_count": 67,
   "metadata": {},
   "outputs": [
    {
     "data": {
      "text/plain": [
       "10"
      ]
     },
     "execution_count": 67,
     "metadata": {},
     "output_type": "execute_result"
    }
   ],
   "source": [
    "A.size"
   ]
  },
  {
   "cell_type": "markdown",
   "metadata": {},
   "source": [
    "### 3) type"
   ]
  },
  {
   "cell_type": "code",
   "execution_count": 68,
   "metadata": {},
   "outputs": [
    {
     "name": "stdout",
     "output_type": "stream",
     "text": [
      "[[0 1 2]\n",
      " [3 4 5]]\n",
      "int64\n",
      "<class 'numpy.ndarray'>\n",
      "-------------------------\n",
      "[0 1 2 3 4 5]\n",
      "int64\n",
      "<class 'numpy.ndarray'>\n",
      "-------------------------\n",
      "['0' '1' '2' '3' '4' '5']\n",
      "<U21\n",
      "<class 'numpy.ndarray'>\n",
      "-------------------------\n",
      "[0 1 2 3 list([4, 5]) 6]\n",
      "object\n",
      "<class 'numpy.ndarray'>\n"
     ]
    }
   ],
   "source": [
    "A= np.arange(6).reshape(2, 3)\n",
    "print(A)\n",
    "print(A.dtype)\n",
    "print(type(A))\n",
    "print(\"-------------------------\")\n",
    "\n",
    "B = np.array([0, 1, 2, 3, 4, 5])  \n",
    "print(B)\n",
    "print(B.dtype)\n",
    "print(type(B))\n",
    "print(\"-------------------------\")\n",
    "\n",
    "C = np.array([0, 1, 2, 3, '4', 5])\n",
    "print(C)\n",
    "print(C.dtype)\n",
    "print(type(C))\n",
    "print(\"-------------------------\")\n",
    "\n",
    "D = np.array([0, 1, 2, 3, [4, 5], 6])  # 이런 ndarray도 만들어질까요?\n",
    "print(D)\n",
    "print(D.dtype)\n",
    "print(type(D))"
   ]
  },
  {
   "cell_type": "code",
   "execution_count": 69,
   "metadata": {},
   "outputs": [
    {
     "name": "stdout",
     "output_type": "stream",
     "text": [
      "0\n",
      "<class 'numpy.str_'>\n",
      "4\n",
      "<class 'numpy.str_'>\n",
      "------------------------------\n",
      "0\n",
      "<class 'int'>\n",
      "[4, 5]\n",
      "<class 'list'>\n"
     ]
    }
   ],
   "source": [
    "C = np.array([0,1,2,3,'4',5])\n",
    "print(C[0])\n",
    "print(type(C[0]))\n",
    "print(C[4])\n",
    "print(type(C[4]))\n",
    "print(\"------------------------------\")\n",
    "\n",
    "D = np.array([0,1,2,3,[4,5],6])\n",
    "print(D[0])\n",
    "print(type(D[0]))\n",
    "print(D[4])\n",
    "print(type(D[4]))"
   ]
  },
  {
   "cell_type": "markdown",
   "metadata": {},
   "source": [
    "### 4) 특수행렬"
   ]
  },
  {
   "cell_type": "code",
   "execution_count": 70,
   "metadata": {},
   "outputs": [
    {
     "data": {
      "text/plain": [
       "array([[1., 0., 0.],\n",
       "       [0., 1., 0.],\n",
       "       [0., 0., 1.]])"
      ]
     },
     "execution_count": 70,
     "metadata": {},
     "output_type": "execute_result"
    }
   ],
   "source": [
    "# 단위행렬\n",
    "np.eye(3)"
   ]
  },
  {
   "cell_type": "code",
   "execution_count": 71,
   "metadata": {},
   "outputs": [
    {
     "data": {
      "text/plain": [
       "array([[1., 0., 0., 0.],\n",
       "       [0., 1., 0., 0.],\n",
       "       [0., 0., 1., 0.],\n",
       "       [0., 0., 0., 1.]])"
      ]
     },
     "execution_count": 71,
     "metadata": {},
     "output_type": "execute_result"
    }
   ],
   "source": [
    "np.eye(4)"
   ]
  },
  {
   "cell_type": "code",
   "execution_count": 72,
   "metadata": {},
   "outputs": [
    {
     "data": {
      "text/plain": [
       "array([[0., 0., 0.],\n",
       "       [0., 0., 0.]])"
      ]
     },
     "execution_count": 72,
     "metadata": {},
     "output_type": "execute_result"
    }
   ],
   "source": [
    "# 0 행렬\n",
    "np.zeros([2,3])"
   ]
  },
  {
   "cell_type": "code",
   "execution_count": 74,
   "metadata": {},
   "outputs": [
    {
     "data": {
      "text/plain": [
       "array([[0., 0., 0.],\n",
       "       [0., 0., 0.]])"
      ]
     },
     "execution_count": 74,
     "metadata": {},
     "output_type": "execute_result"
    }
   ],
   "source": [
    "np.zeros((2,3))"
   ]
  },
  {
   "cell_type": "code",
   "execution_count": 75,
   "metadata": {},
   "outputs": [
    {
     "data": {
      "text/plain": [
       "array([[1., 1., 1.],\n",
       "       [1., 1., 1.],\n",
       "       [1., 1., 1.]])"
      ]
     },
     "execution_count": 75,
     "metadata": {},
     "output_type": "execute_result"
    }
   ],
   "source": [
    "# 1행렬\n",
    "np.ones([3,3])"
   ]
  },
  {
   "cell_type": "code",
   "execution_count": 77,
   "metadata": {},
   "outputs": [
    {
     "data": {
      "text/plain": [
       "array([[1., 1., 1., 1., 1., 1.],\n",
       "       [1., 1., 1., 1., 1., 1.],\n",
       "       [1., 1., 1., 1., 1., 1.],\n",
       "       [1., 1., 1., 1., 1., 1.],\n",
       "       [1., 1., 1., 1., 1., 1.]])"
      ]
     },
     "execution_count": 77,
     "metadata": {},
     "output_type": "execute_result"
    }
   ],
   "source": [
    "np.ones((5,6))"
   ]
  },
  {
   "cell_type": "markdown",
   "metadata": {},
   "source": [
    "### 5) 브로드캐스트"
   ]
  },
  {
   "cell_type": "code",
   "execution_count": 78,
   "metadata": {},
   "outputs": [
    {
     "data": {
      "text/plain": [
       "array([[0, 1, 2],\n",
       "       [3, 4, 5],\n",
       "       [6, 7, 8]])"
      ]
     },
     "execution_count": 78,
     "metadata": {},
     "output_type": "execute_result"
    }
   ],
   "source": [
    "A = np.arange(9).reshape(3,3)\n",
    "A"
   ]
  },
  {
   "cell_type": "code",
   "execution_count": 79,
   "metadata": {},
   "outputs": [
    {
     "data": {
      "text/plain": [
       "array([[ 0,  2,  4],\n",
       "       [ 6,  8, 10],\n",
       "       [12, 14, 16]])"
      ]
     },
     "execution_count": 79,
     "metadata": {},
     "output_type": "execute_result"
    }
   ],
   "source": [
    "A *2"
   ]
  },
  {
   "cell_type": "code",
   "execution_count": 80,
   "metadata": {},
   "outputs": [
    {
     "data": {
      "text/plain": [
       "array([[ 2,  3,  4],\n",
       "       [ 5,  6,  7],\n",
       "       [ 8,  9, 10]])"
      ]
     },
     "execution_count": 80,
     "metadata": {},
     "output_type": "execute_result"
    }
   ],
   "source": [
    "A + 2"
   ]
  },
  {
   "cell_type": "code",
   "execution_count": 81,
   "metadata": {},
   "outputs": [
    {
     "name": "stdout",
     "output_type": "stream",
     "text": [
      "A: [[0 1 2]\n",
      " [3 4 5]\n",
      " [6 7 8]]\n",
      "B: [1 2 3]\n",
      "\n",
      "A+B: [[ 1  3  5]\n",
      " [ 4  6  8]\n",
      " [ 7  9 11]]\n"
     ]
    }
   ],
   "source": [
    "# 3 X 3 행렬에 1 X 3 행렬을 더했을 때\n",
    "A = np.arange(9).reshape(3,3)\n",
    "B = np.array([1, 2, 3])\n",
    "print(\"A:\", A)\n",
    "print(\"B:\", B)\n",
    "print(\"\\nA+B:\", A+B)"
   ]
  },
  {
   "cell_type": "code",
   "execution_count": 82,
   "metadata": {},
   "outputs": [
    {
     "name": "stdout",
     "output_type": "stream",
     "text": [
      "A: [[0 1 2]\n",
      " [3 4 5]\n",
      " [6 7 8]]\n",
      "C: [[1]\n",
      " [2]\n",
      " [3]]\n",
      "\n",
      "A+C: [[ 1  2  3]\n",
      " [ 5  6  7]\n",
      " [ 9 10 11]]\n"
     ]
    }
   ],
   "source": [
    "# 3 X 3 행렬에 3 X 1 행렬을 더했을 때\n",
    "A = np.arange(9).reshape(3,3)\n",
    "C = np.array([[1], [2], [3]])\n",
    "print(\"A:\", A)\n",
    "print(\"C:\", C)\n",
    "print(\"\\nA+C:\", A+C)"
   ]
  },
  {
   "cell_type": "code",
   "execution_count": 83,
   "metadata": {},
   "outputs": [
    {
     "name": "stdout",
     "output_type": "stream",
     "text": [
      "[1, 2, 3, 4]\n"
     ]
    },
    {
     "ename": "TypeError",
     "evalue": "can only concatenate list (not \"int\") to list",
     "output_type": "error",
     "traceback": [
      "\u001b[0;31m---------------------------------------------------------------------------\u001b[0m",
      "\u001b[0;31mTypeError\u001b[0m                                 Traceback (most recent call last)",
      "\u001b[0;32m<ipython-input-83-1e8b322884f3>\u001b[0m in \u001b[0;36m<module>\u001b[0;34m\u001b[0m\n\u001b[1;32m      1\u001b[0m \u001b[0mprint\u001b[0m\u001b[0;34m(\u001b[0m\u001b[0;34m[\u001b[0m\u001b[0;36m1\u001b[0m\u001b[0;34m,\u001b[0m\u001b[0;36m2\u001b[0m\u001b[0;34m]\u001b[0m\u001b[0;34m+\u001b[0m\u001b[0;34m[\u001b[0m\u001b[0;36m3\u001b[0m\u001b[0;34m,\u001b[0m\u001b[0;36m4\u001b[0m\u001b[0;34m]\u001b[0m\u001b[0;34m)\u001b[0m\u001b[0;34m\u001b[0m\u001b[0;34m\u001b[0m\u001b[0m\n\u001b[0;32m----> 2\u001b[0;31m \u001b[0mprint\u001b[0m\u001b[0;34m(\u001b[0m\u001b[0;34m[\u001b[0m\u001b[0;36m1\u001b[0m\u001b[0;34m,\u001b[0m\u001b[0;36m2\u001b[0m\u001b[0;34m]\u001b[0m\u001b[0;34m+\u001b[0m\u001b[0;36m3\u001b[0m\u001b[0;34m)\u001b[0m\u001b[0;34m\u001b[0m\u001b[0;34m\u001b[0m\u001b[0m\n\u001b[0m",
      "\u001b[0;31mTypeError\u001b[0m: can only concatenate list (not \"int\") to list"
     ]
    }
   ],
   "source": [
    "print([1,2]+[3,4])\n",
    "print([1,2]+3)"
   ]
  },
  {
   "cell_type": "code",
   "execution_count": 84,
   "metadata": {},
   "outputs": [
    {
     "name": "stdout",
     "output_type": "stream",
     "text": [
      "[4 6]\n",
      "[4 5]\n"
     ]
    }
   ],
   "source": [
    "print(np.array([1,2])+np.array([3,4]))\n",
    "print(np.array([1,2])+3)"
   ]
  },
  {
   "cell_type": "code",
   "execution_count": 85,
   "metadata": {},
   "outputs": [
    {
     "name": "stdout",
     "output_type": "stream",
     "text": [
      "A: [[0 1 2]\n",
      " [3 4 5]\n",
      " [6 7 8]]\n",
      "B: [0 1 2]\n"
     ]
    }
   ],
   "source": [
    "# 3 X 3 행렬의 첫번째 행을 구해 봅시다. \n",
    "A = np.arange(9).reshape(3,3)\n",
    "print(\"A:\", A)\n",
    "B = A[0]\n",
    "print(\"B:\", B)"
   ]
  },
  {
   "cell_type": "code",
   "execution_count": 88,
   "metadata": {},
   "outputs": [
    {
     "data": {
      "text/plain": [
       "array([6, 7, 8])"
      ]
     },
     "execution_count": 88,
     "metadata": {},
     "output_type": "execute_result"
    }
   ],
   "source": [
    "A[2]"
   ]
  },
  {
   "cell_type": "code",
   "execution_count": 89,
   "metadata": {},
   "outputs": [
    {
     "data": {
      "text/plain": [
       "7"
      ]
     },
     "execution_count": 89,
     "metadata": {},
     "output_type": "execute_result"
    }
   ],
   "source": [
    "A[2,1]"
   ]
  },
  {
   "cell_type": "code",
   "execution_count": 90,
   "metadata": {},
   "outputs": [
    {
     "name": "stdout",
     "output_type": "stream",
     "text": [
      "1\n",
      "1\n"
     ]
    }
   ],
   "source": [
    "# 0, 1을 인덱싱 하면 A의 첫번째 행에서 두번째 값을 참조합니다.\n",
    "# 아래 두 결과는 정확히 같습니다.\n",
    "print(A[0, 1])\n",
    "print(B[1])"
   ]
  },
  {
   "cell_type": "code",
   "execution_count": 91,
   "metadata": {},
   "outputs": [
    {
     "data": {
      "text/plain": [
       "array([[0, 1, 2],\n",
       "       [3, 4, 5]])"
      ]
     },
     "execution_count": 91,
     "metadata": {},
     "output_type": "execute_result"
    }
   ],
   "source": [
    "# 슬라이싱도 비슷합니다.\n",
    "A[:-1]"
   ]
  },
  {
   "cell_type": "code",
   "execution_count": 95,
   "metadata": {},
   "outputs": [
    {
     "data": {
      "text/plain": [
       "array([2, 5, 8])"
      ]
     },
     "execution_count": 95,
     "metadata": {},
     "output_type": "execute_result"
    }
   ],
   "source": [
    "A[:,-1]"
   ]
  },
  {
   "cell_type": "code",
   "execution_count": 96,
   "metadata": {},
   "outputs": [
    {
     "name": "stdout",
     "output_type": "stream",
     "text": [
      "[[2]\n",
      " [5]\n",
      " [8]]\n",
      "--------------\n",
      "[[1 2]\n",
      " [4 5]\n",
      " [7 8]]\n",
      "--------------\n",
      "[[0 1 2]\n",
      " [3 4 5]\n",
      " [6 7 8]]\n",
      "--------------\n",
      "[[2]\n",
      " [5]\n",
      " [8]]\n",
      "--------------\n",
      "[[1 2]\n",
      " [4 5]\n",
      " [7 8]]\n",
      "--------------\n",
      "[[0 1 2]\n",
      " [3 4 5]\n",
      " [6 7 8]]\n"
     ]
    }
   ],
   "source": [
    "# 이 슬라이싱의 결과는 \n",
    "print(A[:,2:])\n",
    "print(\"--------------\")\n",
    "print(A[:,1:])\n",
    "print(\"--------------\")\n",
    "print(A[:,:])\n",
    "print(\"--------------\")\n",
    "# 이 슬라이싱의 결과와 동일합니다.\n",
    "print(A[:,-1:])\n",
    "print(\"--------------\")\n",
    "print(A[:,-2:])\n",
    "print(\"--------------\")\n",
    "print(A[:,-3:])\n",
    "\n",
    "# 위 그림과 비교해서 이해해 보세요."
   ]
  },
  {
   "cell_type": "markdown",
   "metadata": {},
   "source": [
    "### 7) random"
   ]
  },
  {
   "cell_type": "code",
   "execution_count": 97,
   "metadata": {},
   "outputs": [
    {
     "name": "stdout",
     "output_type": "stream",
     "text": [
      "0.6350638254086112\n",
      "1\n",
      "6\n"
     ]
    }
   ],
   "source": [
    "# 의사 난수를 생성하는 예제입니다. 여러번 실행해 보세요.\n",
    "\n",
    "print(np.random.random())   # 0에서 1사이의 실수형 난수 하나를 생성합니다. \n",
    "\n",
    "print(np.random.randint(0,10))   # 0~9 사이 1개 정수형 난수 하나를 생성합니다. \n",
    "\n",
    "print(np.random.choice([0,1,2,3,4,5,6,7,8,9]))   # 리스트에 주어진 값 중 하나를 랜덤하게 골라줍니다."
   ]
  },
  {
   "cell_type": "code",
   "execution_count": 98,
   "metadata": {},
   "outputs": [
    {
     "name": "stdout",
     "output_type": "stream",
     "text": [
      "[5 9 6 3 0 1 7 8 2 4]\n",
      "[0 7 9 5 1 4 2 6 3 8]\n"
     ]
    }
   ],
   "source": [
    "# 무작위로 섞인 배열을 만들어 줍니다. \n",
    "# 아래 2가지는 기능면에서 동일합니다. \n",
    "\n",
    "print(np.random.permutation(10))   \n",
    "print(np.random.permutation([0,1,2,3,4,5,6,7,8,9]))"
   ]
  },
  {
   "cell_type": "code",
   "execution_count": 103,
   "metadata": {},
   "outputs": [
    {
     "data": {
      "text/plain": [
       "array([0])"
      ]
     },
     "execution_count": 103,
     "metadata": {},
     "output_type": "execute_result"
    }
   ],
   "source": [
    "z = np.random.permutation(1)\n",
    "z"
   ]
  },
  {
   "cell_type": "code",
   "execution_count": 102,
   "metadata": {},
   "outputs": [
    {
     "data": {
      "text/plain": [
       "100"
      ]
     },
     "execution_count": 102,
     "metadata": {},
     "output_type": "execute_result"
    }
   ],
   "source": [
    "z.size"
   ]
  },
  {
   "cell_type": "code",
   "execution_count": 104,
   "metadata": {},
   "outputs": [
    {
     "name": "stdout",
     "output_type": "stream",
     "text": [
      "[-1.03278579 -0.26525327  0.01006574  1.23090668 -2.1600001 ]\n",
      "[-0.0709498   0.85662114  0.72632021  0.72500234 -0.75284683]\n"
     ]
    }
   ],
   "source": [
    "# 아래 기능들은 어떤 분포를 따르는 변수를 임의로 표본추출해 줍니다. \n",
    "\n",
    "# 이것은 정규분포를 따릅니다.\n",
    "print(np.random.normal(loc=0, scale=1, size=5))    # 평균(loc), 표준편차(scale), 추출개수(size)를 조절해 보세요.\n",
    "\n",
    "# 이것은 균등분포를 따릅니다. \n",
    "print(np.random.uniform(low=-1, high=1, size=5))  # 최소(low), 최대(high), 추출개수(size)를 조절해 보세요."
   ]
  },
  {
   "cell_type": "code",
   "execution_count": 105,
   "metadata": {},
   "outputs": [
    {
     "data": {
      "text/plain": [
       "array([ 0.26809518, -1.58576538,  0.48503175,  0.14003206, -0.09920626,\n",
       "       -1.52077958])"
      ]
     },
     "execution_count": 105,
     "metadata": {},
     "output_type": "execute_result"
    }
   ],
   "source": [
    "np.random.normal(loc=0, scale=1, size= 6)"
   ]
  },
  {
   "cell_type": "code",
   "execution_count": 106,
   "metadata": {},
   "outputs": [
    {
     "data": {
      "text/plain": [
       "array([1.9291086 , 1.01853491, 1.78429087, 1.73084599, 1.44684947])"
      ]
     },
     "execution_count": 106,
     "metadata": {},
     "output_type": "execute_result"
    }
   ],
   "source": [
    "np.random.uniform(low=1, high=2, size=5)"
   ]
  },
  {
   "cell_type": "markdown",
   "metadata": {},
   "source": [
    "### 8) 전치행렬"
   ]
  },
  {
   "cell_type": "code",
   "execution_count": 107,
   "metadata": {},
   "outputs": [
    {
     "name": "stdout",
     "output_type": "stream",
     "text": [
      "A: [[[ 0  1  2  3]\n",
      "  [ 4  5  6  7]\n",
      "  [ 8  9 10 11]]\n",
      "\n",
      " [[12 13 14 15]\n",
      "  [16 17 18 19]\n",
      "  [20 21 22 23]]]\n",
      "A의 전치행렬: [[[ 0 12]\n",
      "  [ 4 16]\n",
      "  [ 8 20]]\n",
      "\n",
      " [[ 1 13]\n",
      "  [ 5 17]\n",
      "  [ 9 21]]\n",
      "\n",
      " [[ 2 14]\n",
      "  [ 6 18]\n",
      "  [10 22]]\n",
      "\n",
      " [[ 3 15]\n",
      "  [ 7 19]\n",
      "  [11 23]]]\n",
      "A의 전치행렬의 shape: (4, 3, 2)\n"
     ]
    }
   ],
   "source": [
    "A = np.arange(24).reshape(2,3,4)\n",
    "print(\"A:\", A)               # A는 (2,3,4)의 shape를 가진 행렬입니다. \n",
    "print(\"A의 전치행렬:\", A.T)            \n",
    "print(\"A의 전치행렬의 shape:\", A.T.shape) # A의 전치행렬은 (4,3,2)의 shape를 가진 행렬입니다."
   ]
  },
  {
   "cell_type": "code",
   "execution_count": 108,
   "metadata": {},
   "outputs": [
    {
     "data": {
      "text/plain": [
       "array([[ 0,  1,  2,  3],\n",
       "       [ 4,  5,  6,  7],\n",
       "       [ 8,  9, 10, 11]])"
      ]
     },
     "execution_count": 108,
     "metadata": {},
     "output_type": "execute_result"
    }
   ],
   "source": [
    "A[0]"
   ]
  },
  {
   "cell_type": "code",
   "execution_count": 109,
   "metadata": {},
   "outputs": [
    {
     "data": {
      "text/plain": [
       "array([[12, 13, 14, 15],\n",
       "       [16, 17, 18, 19],\n",
       "       [20, 21, 22, 23]])"
      ]
     },
     "execution_count": 109,
     "metadata": {},
     "output_type": "execute_result"
    }
   ],
   "source": [
    "A[1]"
   ]
  },
  {
   "cell_type": "code",
   "execution_count": 110,
   "metadata": {},
   "outputs": [
    {
     "data": {
      "text/plain": [
       "array([4, 5, 6, 7])"
      ]
     },
     "execution_count": 110,
     "metadata": {},
     "output_type": "execute_result"
    }
   ],
   "source": [
    "A[0,1]"
   ]
  },
  {
   "cell_type": "code",
   "execution_count": 111,
   "metadata": {},
   "outputs": [
    {
     "data": {
      "text/plain": [
       "7"
      ]
     },
     "execution_count": 111,
     "metadata": {},
     "output_type": "execute_result"
    }
   ],
   "source": [
    "A[0,1,3]"
   ]
  },
  {
   "cell_type": "code",
   "execution_count": 114,
   "metadata": {},
   "outputs": [
    {
     "data": {
      "text/plain": [
       "7"
      ]
     },
     "execution_count": 114,
     "metadata": {},
     "output_type": "execute_result"
    }
   ],
   "source": [
    "A.T[3,1,0]"
   ]
  },
  {
   "cell_type": "code",
   "execution_count": 116,
   "metadata": {},
   "outputs": [
    {
     "data": {
      "text/plain": [
       "array([ 7, 19])"
      ]
     },
     "execution_count": 116,
     "metadata": {},
     "output_type": "execute_result"
    }
   ],
   "source": [
    "A.T[3,1]"
   ]
  },
  {
   "cell_type": "code",
   "execution_count": 117,
   "metadata": {},
   "outputs": [
    {
     "name": "stdout",
     "output_type": "stream",
     "text": [
      "A: [[[ 0  1  2  3]\n",
      "  [ 4  5  6  7]\n",
      "  [ 8  9 10 11]]\n",
      "\n",
      " [[12 13 14 15]\n",
      "  [16 17 18 19]\n",
      "  [20 21 22 23]]]\n",
      "B: [[[ 0  4  8]\n",
      "  [12 16 20]]\n",
      "\n",
      " [[ 1  5  9]\n",
      "  [13 17 21]]\n",
      "\n",
      " [[ 2  6 10]\n",
      "  [14 18 22]]\n",
      "\n",
      " [[ 3  7 11]\n",
      "  [15 19 23]]]\n",
      "B.shape: (4, 2, 3)\n"
     ]
    }
   ],
   "source": [
    "# np.transpose는 행렬의 축을 어떻게 변환해 줄지 임의로 지정해 줄 수 있는 일반적인 행렬 전치 함수입니다. \n",
    "# np.transpose(A, (2,1,0)) 은 A.T와 정확히 같습니다.\n",
    "\n",
    "B = np.transpose(A, (2,0,1))\n",
    "print(\"A:\", A)             # A는 (2,3,4)의 shape를 가진 행렬입니다. \n",
    "print(\"B:\", B)             # B는 A의 3, 1, 2번째 축을 자신의 1, 2, 3번째 축으로 가진 행렬입니다.\n",
    "print(\"B.shape:\", B.shape)  # B는 (4,2,3)의 shape를 가진 행렬입니다."
   ]
  },
  {
   "cell_type": "code",
   "execution_count": 118,
   "metadata": {},
   "outputs": [
    {
     "ename": "TypeError",
     "evalue": "_transpose_dispatcher() missing 1 required positional argument: 'a'",
     "output_type": "error",
     "traceback": [
      "\u001b[0;31m---------------------------------------------------------------------------\u001b[0m",
      "\u001b[0;31mTypeError\u001b[0m                                 Traceback (most recent call last)",
      "\u001b[0;32m<ipython-input-118-2a9c7584c554>\u001b[0m in \u001b[0;36m<module>\u001b[0;34m\u001b[0m\n\u001b[0;32m----> 1\u001b[0;31m \u001b[0mnp\u001b[0m\u001b[0;34m.\u001b[0m\u001b[0mtranspose\u001b[0m\u001b[0;34m(\u001b[0m\u001b[0;34m)\u001b[0m\u001b[0;34m\u001b[0m\u001b[0;34m\u001b[0m\u001b[0m\n\u001b[0m",
      "\u001b[0;32m<__array_function__ internals>\u001b[0m in \u001b[0;36mtranspose\u001b[0;34m(*args, **kwargs)\u001b[0m\n",
      "\u001b[0;31mTypeError\u001b[0m: _transpose_dispatcher() missing 1 required positional argument: 'a'"
     ]
    }
   ],
   "source": [
    "np.transpose()"
   ]
  },
  {
   "cell_type": "markdown",
   "metadata": {},
   "source": [
    "## 4-6. 끝판왕 등장! NumPy로 이 모든 걸 한방에! (3) NumPy로 기본 통계 데이터 계산해 보기\n"
   ]
  },
  {
   "cell_type": "code",
   "execution_count": 119,
   "metadata": {},
   "outputs": [
    {
     "name": "stdout",
     "output_type": "stream",
     "text": [
      "Enter a number (<Enter key> to quit)1\n",
      "Enter a number (<Enter key> to quit)2\n",
      "Enter a number (<Enter key> to quit)3\n",
      "Enter a number (<Enter key> to quit)4\n",
      "Enter a number (<Enter key> to quit)5\n",
      "Enter a number (<Enter key> to quit)6\n",
      "Enter a number (<Enter key> to quit)\n",
      "합 21.0\n",
      "평균값 3.5\n",
      "표준편차 1.707825127659933\n",
      "중앙값 3.5\n"
     ]
    }
   ],
   "source": [
    "\n",
    "import numpy as np\n",
    "\n",
    "# 6-3 스텝에서 사용하였던 함수입니다. \n",
    "def numbers():\n",
    "    X = []\n",
    "    number = input(\"Enter a number (<Enter key> to quit)\") \n",
    "    # 하지만 2개 이상의 숫자를 받아야 한다는 제약조건을 제외하였습니다.\n",
    "    while number != \"\":\n",
    "        try:\n",
    "            x = float(number)\n",
    "            X.append(x)\n",
    "        except ValueError:\n",
    "            print('>>> NOT a number! Ignored..')\n",
    "        number = input(\"Enter a number (<Enter key> to quit)\")\n",
    "    return X\n",
    "\n",
    "def main():\n",
    "    nums = numbers()       # 이것은 파이썬 리스트입니다. \n",
    "    num = np.array(nums)   # 리스트를 Numpy ndarray로 변환합니다.\n",
    "    print(\"합\", num.sum())\n",
    "    print(\"평균값\",num.mean())\n",
    "    print(\"표준편차\",num.std())\n",
    "    print(\"중앙값\",np.median(num))   # num.median() 이 아님에 유의해 주세요.\n",
    "\n",
    "main()"
   ]
  },
  {
   "cell_type": "code",
   "execution_count": null,
   "metadata": {},
   "outputs": [],
   "source": []
  },
  {
   "cell_type": "code",
   "execution_count": null,
   "metadata": {},
   "outputs": [],
   "source": []
  }
 ],
 "metadata": {
  "kernelspec": {
   "display_name": "Python 3",
   "language": "python",
   "name": "python3"
  },
  "language_info": {
   "codemirror_mode": {
    "name": "ipython",
    "version": 3
   },
   "file_extension": ".py",
   "mimetype": "text/x-python",
   "name": "python",
   "nbconvert_exporter": "python",
   "pygments_lexer": "ipython3",
   "version": "3.7.4"
  }
 },
 "nbformat": 4,
 "nbformat_minor": 2
}
